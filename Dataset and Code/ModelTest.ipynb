{
 "cells": [
  {
   "cell_type": "code",
   "execution_count": 97,
   "metadata": {},
   "outputs": [],
   "source": [
    "import os\n",
    "import pandas as pd\n",
    "import numpy as np\n",
    "from tensorflow.keras.models import load_model\n",
    "from sklearn.preprocessing import StandardScaler\n",
    "from tensorflow.keras.preprocessing.sequence import pad_sequences"
   ]
  },
  {
   "cell_type": "code",
   "execution_count": 98,
   "metadata": {},
   "outputs": [],
   "source": [
    "# Load a saved model \n",
    "# (choose the which fold to be tested [1 to 5])\n",
    "model = load_model('best_modelCekIni_fold_3.keras')\n",
    "\n",
    "def load_and_preprocess_test_data(test_folder):\n",
    "    test_data = []\n",
    "    for i in range(1, 6):\n",
    "        file_path = os.path.join(test_folder, f'test_{i}.csv')\n",
    "        if os.path.exists(file_path):\n",
    "            df = pd.read_csv(file_path)\n",
    "            test_data.append(df[['timestamp', 'activity']].values)\n",
    "    return test_data"
   ]
  },
  {
   "cell_type": "code",
   "execution_count": 99,
   "metadata": {},
   "outputs": [],
   "source": [
    "def preprocess_data(data):\n",
    "    processed_data = []\n",
    "    for sequence in data:\n",
    "        df = pd.DataFrame(sequence, columns=['timestamp', 'activity'])\n",
    "        df['timestamp'] = pd.to_datetime(df['timestamp'])\n",
    "        df['hour'] = df['timestamp'].dt.hour\n",
    "        processed_data.append(df[['hour', 'activity']].values)\n",
    "    return processed_data"
   ]
  },
  {
   "cell_type": "code",
   "execution_count": 100,
   "metadata": {},
   "outputs": [],
   "source": [
    "def prepare_data(data, time_steps=65407, num_features=2):\n",
    "    scaler = StandardScaler()\n",
    "    processed_data = []\n",
    "    for sequence in data:\n",
    "        scaled_sequence = scaler.fit_transform(sequence)\n",
    "        \n",
    "        # Pad or truncate to match the required time steps\n",
    "        if len(scaled_sequence) < time_steps:\n",
    "\n",
    "            padding = np.zeros((time_steps - len(scaled_sequence), num_features))\n",
    "            scaled_sequence = np.vstack([scaled_sequence, padding])\n",
    "\n",
    "        elif len(scaled_sequence) > time_steps:\n",
    "            \n",
    "            scaled_sequence = scaled_sequence[:time_steps]\n",
    "\n",
    "        processed_data.append(scaled_sequence)\n",
    "\n",
    "    return np.array(processed_data)"
   ]
  },
  {
   "cell_type": "code",
   "execution_count": 101,
   "metadata": {},
   "outputs": [],
   "source": [
    "# Load test data\n",
    "test_data_folder = 'test_data'\n",
    "raw_test_data = load_and_preprocess_test_data(test_data_folder)\n",
    "processed_test_data = preprocess_data(raw_test_data)\n",
    "X_test = prepare_data(processed_test_data)"
   ]
  },
  {
   "cell_type": "code",
   "execution_count": 102,
   "metadata": {},
   "outputs": [],
   "source": [
    "true_labels = [1, 1, 0, 1, 0]"
   ]
  },
  {
   "cell_type": "code",
   "execution_count": 103,
   "metadata": {},
   "outputs": [
    {
     "name": "stdout",
     "output_type": "stream",
     "text": [
      "\u001b[1m1/1\u001b[0m \u001b[32m━━━━━━━━━━━━━━━━━━━━\u001b[0m\u001b[37m\u001b[0m \u001b[1m1s\u001b[0m 1s/step\n"
     ]
    }
   ],
   "source": [
    "# Prediction process\n",
    "predictions = model.predict(X_test)\n",
    "predictions = [(np.squeeze(pred), 'depressed' if np.squeeze(pred) >= 0.5 else 'non-depressed') for pred in predictions]\n",
    "predicted_labels = [1 if pred[0] >= 0.5 else 0 for pred in predictions]"
   ]
  },
  {
   "cell_type": "code",
   "execution_count": 104,
   "metadata": {},
   "outputs": [
    {
     "name": "stdout",
     "output_type": "stream",
     "text": [
      "depressed - 1.0000\n",
      "depressed - 0.9992\n",
      "non-depressed - 0.0000\n",
      "depressed - 0.9998\n",
      "non-depressed - 0.0000\n"
     ]
    }
   ],
   "source": [
    "# Output predictions with the value of prediction \n",
    "# 1 is depressed and 0 is non-depressed\n",
    "for i, (prob, prediction) in enumerate(predictions):\n",
    "    print(f\"{prediction} - {prob:.4f}\")\n"
   ]
  },
  {
   "cell_type": "code",
   "execution_count": 105,
   "metadata": {},
   "outputs": [
    {
     "name": "stdout",
     "output_type": "stream",
     "text": [
      "depressed - Confidence: 1.0000\n",
      "depressed - Confidence: 0.9992\n",
      "non-depressed - Confidence: 1.0000\n",
      "depressed - Confidence: 0.9998\n",
      "non-depressed - Confidence: 1.0000\n"
     ]
    }
   ],
   "source": [
    "# Output prediction with how accurate the model predict it based on the confidence\n",
    "for i, (prob, prediction) in enumerate(predictions):\n",
    "    confidence = prob if prediction == 'depressed' else 1 - prob\n",
    "    print(f\"{prediction} - Confidence: {confidence:.4f}\")"
   ]
  }
 ],
 "metadata": {
  "kernelspec": {
   "display_name": "Python 3",
   "language": "python",
   "name": "python3"
  },
  "language_info": {
   "codemirror_mode": {
    "name": "ipython",
    "version": 3
   },
   "file_extension": ".py",
   "mimetype": "text/x-python",
   "name": "python",
   "nbconvert_exporter": "python",
   "pygments_lexer": "ipython3",
   "version": "3.11.2"
  }
 },
 "nbformat": 4,
 "nbformat_minor": 2
}
